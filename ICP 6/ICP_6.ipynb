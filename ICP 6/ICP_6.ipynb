{
  "nbformat": 4,
  "nbformat_minor": 0,
  "metadata": {
    "colab": {
      "provenance": [],
      "gpuType": "T4"
    },
    "kernelspec": {
      "name": "python3",
      "display_name": "Python 3"
    },
    "language_info": {
      "name": "python"
    },
    "accelerator": "GPU"
  },
  "cells": [
    {
      "cell_type": "code",
      "execution_count": 1,
      "metadata": {
        "id": "XdNlr5jSYWik",
        "colab": {
          "base_uri": "https://localhost:8080/"
        },
        "outputId": "da5d1f98-46d8-4537-f1fd-11d55a3fe7f7"
      },
      "outputs": [
        {
          "output_type": "stream",
          "name": "stdout",
          "text": [
            "Mounted at /content/gdrive\n"
          ]
        }
      ],
      "source": [
        "from google.colab import drive\n",
        "drive.mount('/content/gdrive')"
      ]
    },
    {
      "cell_type": "code",
      "source": [
        "path_to_csv = '/content/gdrive/MyDrive/diabetes(1).csv'"
      ],
      "metadata": {
        "id": "_r3MUyfgE-IQ"
      },
      "execution_count": 2,
      "outputs": []
    },
    {
      "cell_type": "code",
      "source": [
        "import keras\n",
        "import pandas as pd\n",
        "import numpy as np\n",
        "from sklearn.model_selection import train_test_split\n",
        "from keras.models import Sequential\n",
        "from keras.layers import Dense, Activation\n",
        "from keras.datasets import mnist\n",
        "from keras.layers import Flatten\n",
        "import matplotlib.pyplot as plt\n",
        "\n",
        "# Diabetes Prediction Use Case\n",
        "# Load the dataset\n",
        "dataset = pd.read_csv(path_to_csv, header=None).values\n",
        "\n",
        "X = dataset[:, 0:8]\n",
        "Y = dataset[:, 8]\n",
        "\n",
        "(X_train_mnist, Y_train_mnist), (X_test_mnist, Y_test_mnist) = mnist.load_data()\n",
        "\n",
        "X_train_mnist, X_test_mnist = X_train_mnist / 255.0, X_test_mnist / 255.0\n",
        "\n",
        "my_first_nn_mnist = Sequential()\n",
        "\n",
        "my_first_nn_mnist.add(Flatten(input_shape=(28, 28)))\n",
        "\n",
        "# Add hidden layers with sigmoid activation\n",
        "my_first_nn_mnist.add(Dense(128, activation='sigmoid'))\n",
        "my_first_nn_mnist.add(Dense(64, activation='sigmoid'))\n",
        "\n",
        "my_first_nn_mnist.add(Dense(10, activation='softmax'))\n",
        "\n",
        "\n",
        "my_first_nn_mnist.compile(optimizer='adam', loss='sparse_categorical_crossentropy', metrics=['accuracy'])\n",
        "\n",
        "my_first_nn_mnist.fit(X_train_mnist, Y_train_mnist, epochs=10, initial_epoch=0)\n",
        "\n",
        "print(my_first_nn_mnist.summary())\n",
        "print(my_first_nn_mnist.evaluate(X_train_mnist, Y_train_mnist))\n",
        "\n",
        "sample_image = X_test_mnist[0]\n",
        "plt.imshow(sample_image, cmap='gray')\n",
        "plt.show()\n",
        "\n",
        "sample_image = np.expand_dims(sample_image, axis=0)  # Add batch dimension\n",
        "prediction = my_first_nn_mnist.predict(sample_image)\n",
        "predicted_class = np.argmax(prediction)\n",
        "print(f\"Predicted Class: {predicted_class}\")"
      ],
      "metadata": {
        "colab": {
          "base_uri": "https://localhost:8080/",
          "height": 1000
        },
        "id": "_bEq6pnW4uju",
        "outputId": "27af0403-f85c-45b3-aabf-9461882f64c6"
      },
      "execution_count": 31,
      "outputs": [
        {
          "output_type": "stream",
          "name": "stdout",
          "text": [
            "Epoch 1/10\n",
            "1875/1875 [==============================] - 7s 3ms/step - loss: 0.4654 - accuracy: 0.8810\n",
            "Epoch 2/10\n",
            "1875/1875 [==============================] - 6s 3ms/step - loss: 0.1799 - accuracy: 0.9471\n",
            "Epoch 3/10\n",
            "1875/1875 [==============================] - 5s 3ms/step - loss: 0.1244 - accuracy: 0.9642\n",
            "Epoch 4/10\n",
            "1875/1875 [==============================] - 6s 3ms/step - loss: 0.0925 - accuracy: 0.9728\n",
            "Epoch 5/10\n",
            "1875/1875 [==============================] - 5s 3ms/step - loss: 0.0710 - accuracy: 0.9790\n",
            "Epoch 6/10\n",
            "1875/1875 [==============================] - 6s 3ms/step - loss: 0.0558 - accuracy: 0.9835\n",
            "Epoch 7/10\n",
            "1875/1875 [==============================] - 5s 3ms/step - loss: 0.0450 - accuracy: 0.9871\n",
            "Epoch 8/10\n",
            "1875/1875 [==============================] - 6s 3ms/step - loss: 0.0352 - accuracy: 0.9901\n",
            "Epoch 9/10\n",
            "1875/1875 [==============================] - 6s 3ms/step - loss: 0.0286 - accuracy: 0.9917\n",
            "Epoch 10/10\n",
            "1875/1875 [==============================] - 5s 3ms/step - loss: 0.0227 - accuracy: 0.9938\n",
            "Model: \"sequential_26\"\n",
            "_________________________________________________________________\n",
            " Layer (type)                Output Shape              Param #   \n",
            "=================================================================\n",
            " flatten_15 (Flatten)        (None, 784)               0         \n",
            "                                                                 \n",
            " dense_72 (Dense)            (None, 128)               100480    \n",
            "                                                                 \n",
            " dense_73 (Dense)            (None, 64)                8256      \n",
            "                                                                 \n",
            " dense_74 (Dense)            (None, 10)                650       \n",
            "                                                                 \n",
            "=================================================================\n",
            "Total params: 109386 (427.29 KB)\n",
            "Trainable params: 109386 (427.29 KB)\n",
            "Non-trainable params: 0 (0.00 Byte)\n",
            "_________________________________________________________________\n",
            "None\n",
            "1875/1875 [==============================] - 5s 3ms/step - loss: 0.0145 - accuracy: 0.9972\n",
            "[0.014469732530415058, 0.9972166419029236]\n"
          ]
        },
        {
          "output_type": "display_data",
          "data": {
            "text/plain": [
              "<Figure size 640x480 with 1 Axes>"
            ],
            "image/png": "[encoded data removed]"
          },
          "metadata": {}
        },
        {
          "output_type": "stream",
          "name": "stdout",
          "text": [
            "1/1 [==============================] - 0s 60ms/step\n",
            "Predicted Class: 7\n"
          ]
        }
      ]
    }
  ]
}