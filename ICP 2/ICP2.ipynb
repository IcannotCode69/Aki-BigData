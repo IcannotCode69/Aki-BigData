{
  "nbformat": 4,
  "nbformat_minor": 0,
  "metadata": {
    "colab": {
      "provenance": []
    },
    "kernelspec": {
      "name": "python3",
      "display_name": "Python 3"
    },
    "language_info": {
      "name": "python"
    }
  },
  "cells": [
    {
      "cell_type": "code",
      "execution_count": 1,
      "metadata": {
        "colab": {
          "base_uri": "https://localhost:8080/"
        },
        "id": "lo9jC3d1FU18",
        "outputId": "a042c7a3-0f46-4f4d-b67d-d73c68894aeb"
      },
      "outputs": [
        {
          "output_type": "stream",
          "name": "stdout",
          "text": [
            "Mounted at /content/drive\n"
          ]
        }
      ],
      "source": [
        "from google.colab import drive\n",
        "drive.mount('/content/drive')\n"
      ]
    },
    {
      "cell_type": "code",
      "source": [
        "# Question 1\n",
        "from statistics import * # importing all the statistics modules\n",
        "ages = [19, 22, 19, 24, 20, 25, 26, 24, 25, 24]\n",
        "print(ages)\n",
        "ages.sort() #To sort the list\n",
        "print(f\"The sorted list: {ages}\")\n",
        "minimum = ages[0]\n",
        "maximum = ages[-1]\n",
        "ages.insert(0,min)\n",
        "ages.insert(len(ages)-1,max)\n",
        "print(f\"The list after adding the min and max: {ages}\")\n",
        "print(f\"Median: {median(ages)}\")\n",
        "print(f\"Average age: {mean(ages)}\")\n",
        "print(f\"Range: {maximum-minimum}\")\n"
      ],
      "metadata": {
        "colab": {
          "base_uri": "https://localhost:8080/"
        },
        "id": "E5uHDcfVGKhz",
        "outputId": "d9b15bdc-4f52-44ce-e8c8-02c28644a7c0"
      },
      "execution_count": 18,
      "outputs": [
        {
          "output_type": "stream",
          "name": "stdout",
          "text": [
            "[19, 22, 19, 24, 20, 25, 26, 24, 25, 24]\n",
            "The sorted list: [19, 19, 20, 22, 24, 24, 24, 25, 25, 26]\n",
            "The list after adding the min and max: [19, 19, 19, 20, 22, 24, 24, 24, 25, 25, 26, 26]\n",
            "Median: 24.0\n",
            "Average age: 22.75\n",
            "Range: 7\n"
          ]
        }
      ]
    },
    {
      "cell_type": "code",
      "source": [
        "# Question 2\n",
        "\n",
        "dog = {}\n",
        "\n",
        "dog[\"name\"] = \"Buddy\"\n",
        "dog[\"color\"] = \"Golden\"\n",
        "dog[\"breed\"] = \"Retriever\"\n",
        "dog[\"legs\"] = 4\n",
        "dog[\"age\"] = 3\n",
        "\n",
        "student = {\n",
        "    \"first_name\": \"Niki\",\n",
        "    \"last_name\": \"Joe\",\n",
        "    \"gender\": \"Female\",\n",
        "    \"age\": 60,\n",
        "    \"marital_status\": \"Single\",\n",
        "    \"skills\": [\"Math\", \"Painting\"],\n",
        "    \"country\": \"East Africa\",\n",
        "    \"city\": \"Uganda\",\n",
        "    \"address\": \"420 Main St\"\n",
        "}\n",
        "\n",
        "student_length = len(student)\n",
        "print(\"Length of dictionary:\", student_length)\n",
        "\n",
        "skills_value = student[\"skills\"]\n",
        "skills_data_type = type(skills_value)\n",
        "print(\"Skills data type:\", skills_data_type)\n",
        "\n",
        "student[\"skills\"].extend([\"Conversation\", \"Leadership\"])\n",
        "print(\"Updated skills:\", student[\"skills\"])\n",
        "\n",
        "dictionary_keys = list(student.keys())\n",
        "dictionary_values = list(student.values())\n",
        "\n",
        "print(\"Dictionary keys:\", dictionary_keys)\n",
        "print(\"Dictionary values:\", dictionary_values)"
      ],
      "metadata": {
        "colab": {
          "base_uri": "https://localhost:8080/"
        },
        "id": "_EfMIYxqMiuG",
        "outputId": "d16fd927-7aa5-4f80-905f-41312e0aaa8b"
      },
      "execution_count": 26,
      "outputs": [
        {
          "output_type": "stream",
          "name": "stdout",
          "text": [
            "Length of dictionary: 9\n",
            "Skills data type: <class 'list'>\n",
            "Updated skills: ['Math', 'Painting', 'Conversation', 'Leadership']\n",
            "Dictionary keys: ['first_name', 'last_name', 'gender', 'age', 'marital_status', 'skills', 'country', 'city', 'address']\n",
            "Dictionary values: ['Niki', 'Joe', 'Female', 60, 'Single', ['Math', 'Painting', 'Conversation', 'Leadership'], 'East Africa', 'Uganda', '420 Main St']\n"
          ]
        }
      ]
    },
    {
      "cell_type": "code",
      "source": [
        "#Question 3\n",
        "\n",
        "it_companies = {'Facebook', 'Google', 'Microsoft', 'Apple', 'IBM', 'Oracle', 'Amazon'}\n",
        "A = {19, 22, 24, 20, 25, 26}\n",
        "B = {19, 22, 20, 25, 26, 24, 28, 27}\n",
        "age = [22, 19, 24, 25, 26, 24, 25, 24]\n",
        "\n",
        "length_it_companies = len(it_companies)\n",
        "print(f\"The length of the set it_companies: {length_it_companies}\");\n",
        "it_companies.add('Twitter')\n",
        "\n",
        "it_companies = it_companies | {'IntelliCore','Cisco'}\n",
        "print(f\"Updated set it_companies: {it_companies}\")\n",
        "\n",
        "it_companies.remove('Cisco')\n",
        "print(f\"Set after Removing one element: {it_companies}\")\n",
        "\n",
        "# The only difference between remove(element) and discard(element) is that remove() will give you an error if the passed element is not in the set\n",
        "# and discard() function will not give you an error.\n",
        "\n",
        "AandB = A.union(B)\n",
        "print(f\"Join A and B: {AandB}\")\n",
        "\n",
        "print(f\"A intersection B: {A.intersection(B)}\")\n",
        "\n",
        "print(f\"Is A subset of B? {A.issubset(B)}\")\n",
        "\n",
        "print(f\"Are A and B disjoint sets? {A.isdisjoint(B)}\")\n",
        "\n",
        "print(f\"Join A with B: {AandB}\")\n",
        "BandA = B.union(A)\n",
        "print(f\"Join B with A: {BandA}\")\n",
        "\n",
        "symdiff = A.symmetric_difference(B)\n",
        "print(f\"The symmetric difference between A and B {symdiff}\")\n",
        "\n",
        "#The question says delete the sets completely, i assume it is A and B\n",
        "A.clear()\n",
        "B.clear()\n",
        "\n",
        "ages = [19, 22, 19, 24, 20, 25, 26, 24, 25, 24]\n",
        "set_ages = set(ages)\n",
        "list_length = len(ages)\n",
        "set_length = len(set_ages)\n",
        "\n",
        "if list_length > set_length:\n",
        "    print(\"The list is longer than the set.\")\n",
        "elif list_length < set_length:\n",
        "    print(\"The set is longer than the list.\")\n",
        "else:\n",
        "    print(\"The list and the set are the same length.\")"
      ],
      "metadata": {
        "colab": {
          "base_uri": "https://localhost:8080/"
        },
        "id": "kmUQ8Ys7M0hk",
        "outputId": "b6570c60-58fb-462d-f3e9-9a4c337d84e8"
      },
      "execution_count": 7,
      "outputs": [
        {
          "output_type": "stream",
          "name": "stdout",
          "text": [
            "The length of the set it_companies: 7\n",
            "Updated set it_companies: {'Google', 'Apple', 'Amazon', 'Facebook', 'Cisco', 'IBM', 'Twitter', 'Oracle', 'Microsoft', 'IntelliCore'}\n",
            "Set after Removing one element: {'Google', 'Apple', 'Amazon', 'Facebook', 'IBM', 'Twitter', 'Oracle', 'Microsoft', 'IntelliCore'}\n",
            "Join A and B: {19, 20, 22, 24, 25, 26, 27, 28}\n",
            "A intersection B: {19, 20, 22, 24, 25, 26}\n",
            "Is A subset of B? True\n",
            "Are A and B disjoint sets? False\n",
            "Join A with B: {19, 20, 22, 24, 25, 26, 27, 28}\n",
            "Join B with A: {19, 20, 22, 24, 25, 26, 27, 28}\n",
            "The symmetric difference between A and B {27, 28}\n",
            "The list is longer than the set.\n"
          ]
        }
      ]
    },
    {
      "cell_type": "code",
      "source": [
        "# Question 4\n",
        "\n",
        "class Employee:\n",
        "  total_employees = 0\n",
        "\n",
        "  def __init__(my, name, family, salary, department):\n",
        "    my.name = name\n",
        "    my.family = family\n",
        "    my.salary = salary\n",
        "    my.department = department\n",
        "    Employee.total_employees += 1\n",
        "\n",
        "  @classmethod\n",
        "  def average_salary(cls, employees):\n",
        "      total_salary = sum(emp.salary for emp in employees)\n",
        "      return total_salary / len(employees) if len(employees) > 0 else 0\n",
        "\n",
        "class FulltimeEmployee (Employee):\n",
        "  def __init__(my,name,family,salary,department):\n",
        "    super().__init__(name,family,salary,department)\n",
        "\n",
        "# Create instances of employee class\n",
        "employee1 = Employee(\"Joe Mama\", \"Has 2 children\", 6000000000, \"Computer Science\")\n",
        "employee2 = Employee(\"Big Chungus\", \"Father of 7 children\", 200000, \"HR\")\n",
        "employee3 = Employee(\"Michael Jackson\", \"Single\", 5000, \"Business\")\n",
        "\n",
        "# Create instances of FulltimeEmployee class\n",
        "fulltime_employee1 = FulltimeEmployee(\"Lebron James\", \"Single\", 800000, \"Designing\")\n",
        "fulltime_employee2 = FulltimeEmployee(\"Barack Obama\", \"father of 2 children\", 7000000, \"Sales\")\n",
        "\n",
        "# Call member functions\n",
        "employees = [employee1, employee2, employee3, fulltime_employee1, fulltime_employee2]\n",
        "\n",
        "print(\"Total employees:\", Employee.total_employees)\n",
        "print(\"Average salary:\", Employee.average_salary(employees))"
      ],
      "metadata": {
        "colab": {
          "base_uri": "https://localhost:8080/"
        },
        "id": "QZGJLECI5VBY",
        "outputId": "3598af3a-2322-4f08-8c89-2a04fe4a99e2"
      },
      "execution_count": 23,
      "outputs": [
        {
          "output_type": "stream",
          "name": "stdout",
          "text": [
            "Total employees: 5\n",
            "Average salary: 1201601000.0\n"
          ]
        }
      ]
    }
  ]
}