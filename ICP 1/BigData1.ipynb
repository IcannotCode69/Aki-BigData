{
  "nbformat": 4,
  "nbformat_minor": 0,
  "metadata": {
    "colab": {
      "provenance": []
    },
    "kernelspec": {
      "name": "python3",
      "display_name": "Python 3"
    },
    "language_info": {
      "name": "python"
    }
  },
  "cells": [
    {
      "cell_type": "code",
      "source": [
        "from google.colab import drive\n",
        "drive.mount('/content/drive')"
      ],
      "metadata": {
        "id": "entDW1OU0DHh",
        "colab": {
          "base_uri": "https://localhost:8080/"
        },
        "outputId": "1e4213e0-3a26-4d7f-a979-a74347db4134"
      },
      "execution_count": 1,
      "outputs": [
        {
          "output_type": "stream",
          "name": "stdout",
          "text": [
            "Mounted at /content/drive\n"
          ]
        }
      ]
    },
    {
      "cell_type": "code",
      "source": [
        "# Question A\n",
        "String1 = input(\"Enter the required string: \")\n",
        "\n",
        "newString = String1.replace(\"o\", \"\"). replace(\"n\",\"\")\n",
        "\n",
        "def reverse(string):\n",
        "  string = string[::-1]\n",
        "  return string\n",
        "\n",
        "print(reverse(newString))"
      ],
      "metadata": {
        "colab": {
          "base_uri": "https://localhost:8080/"
        },
        "id": "9BNHxZaKGoEq",
        "outputId": "cb43763b-2ca8-4716-988c-1aaa6e29832a"
      },
      "execution_count": 8,
      "outputs": [
        {
          "output_type": "stream",
          "name": "stdout",
          "text": [
            "Enter the required string: python\n",
            "htyp\n"
          ]
        }
      ]
    },
    {
      "cell_type": "code",
      "source": [
        "# Question B\n",
        "num1 = eval(input(\"Enter the first number: \"))\n",
        "num2 = eval(input(\"Enter the second number: \"))\n",
        "\n",
        "addition = num1 + num2\n",
        "subtraction = num1 - num2\n",
        "multiplication = num1 * num2\n",
        "division = num1 / num2\n",
        "\n",
        "print(f\"{num1} + {num2} is {addition}\")\n",
        "print(f\"{num1} - {num2} is {subtraction}\")\n",
        "print(f\"{num1} * {num2} is {multiplication}\")\n",
        "print(f\"{num1} / {num2} is {division}\")"
      ],
      "metadata": {
        "colab": {
          "base_uri": "https://localhost:8080/"
        },
        "id": "KW1SCf8WITX6",
        "outputId": "f357ff9e-4894-4730-d837-05fbc748b5da"
      },
      "execution_count": 9,
      "outputs": [
        {
          "output_type": "stream",
          "name": "stdout",
          "text": [
            "Enter the first number: 4\n",
            "Enter the second number: 2\n",
            "4 + 2 is 6\n",
            "4 - 2 is 2\n",
            "4 * 2 is 8\n",
            "4 / 2 is 2.0\n"
          ]
        }
      ]
    },
    {
      "cell_type": "code",
      "source": [
        "# Question C\n",
        "myString = input(\"\\nEnter a sentence that includes python: \")\n",
        "newMyString = myString.replace(\"python\", \"pythons\")\n",
        "print(newMyString)"
      ],
      "metadata": {
        "colab": {
          "base_uri": "https://localhost:8080/"
        },
        "id": "7qD1tc2HLhtc",
        "outputId": "acd4aab6-8d9f-46b6-cfe2-d0acc5c800cf"
      },
      "execution_count": 11,
      "outputs": [
        {
          "output_type": "stream",
          "name": "stdout",
          "text": [
            "\n",
            "Enter a sentence that includes python: i hate python\n",
            "i hate pythons\n"
          ]
        }
      ]
    },
    {
      "cell_type": "code",
      "source": [
        "# Question D\n",
        "letterGrade = eval(input(\"Enter the student's grade: \"))\n",
        "if letterGrade >= 90:\n",
        "  print(\"Grade A\")\n",
        "elif letterGrade >= 80:\n",
        "  print(\"Grade B\")\n",
        "elif letterGrade >= 70:\n",
        "  print(\"Grade C\")\n",
        "elif letterGrade >= 60:\n",
        "  print(\"Grade D\")\n",
        "else:\n",
        "  print(\"Grade F\")"
      ],
      "metadata": {
        "colab": {
          "base_uri": "https://localhost:8080/"
        },
        "id": "HZJPMWT6MPo3",
        "outputId": "c1b9f714-66ad-4994-8620-1cb7353ca3b7"
      },
      "execution_count": 13,
      "outputs": [
        {
          "output_type": "stream",
          "name": "stdout",
          "text": [
            "Enter the student's grade: 91\n",
            "Grade A\n"
          ]
        }
      ]
    }
  ]
}