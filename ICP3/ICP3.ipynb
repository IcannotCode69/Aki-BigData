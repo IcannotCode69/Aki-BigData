{
  "nbformat": 4,
  "nbformat_minor": 0,
  "metadata": {
    "colab": {
      "provenance": []
    },
    "kernelspec": {
      "name": "python3",
      "display_name": "Python 3"
    },
    "language_info": {
      "name": "python"
    }
  },
  "cells": [
    {
      "cell_type": "code",
      "execution_count": 1,
      "metadata": {
        "colab": {
          "base_uri": "https://localhost:8080/"
        },
        "id": "8QponFxEH2D0",
        "outputId": "44f90c95-7e2e-4cb9-b545-53a342526aa0"
      },
      "outputs": [
        {
          "output_type": "stream",
          "name": "stdout",
          "text": [
            "Mounted at /content/drive\n"
          ]
        }
      ],
      "source": [
        "from google.colab import drive\n",
        "drive.mount('/content/drive')"
      ]
    },
    {
      "cell_type": "code",
      "source": [
        "# Question 1\n",
        "\n",
        "import numpy as np\n",
        "\n",
        "randomArray = np.random.randint(1,21, size = 15)\n",
        "#randomArray = np.random.random(15)\n",
        "\n",
        "print(f\"The random vector: {randomArray}\")\n",
        "\n",
        "# To reshape the array\n",
        "reshapedArray = randomArray.reshape(3,5)\n",
        "print(f\"The reshaped Array: {reshapedArray}\")\n",
        "\n",
        "# To Print Array shape\n",
        "print(f\"Array shape: {reshapedArray.shape}\")\n",
        "\n",
        "# To replace the max in each row by 0\n",
        "for i in range(3):\n",
        "  maxIndex = np.argmax(reshapedArray[i])\n",
        "  reshapedArray[i,maxIndex] = 0\n",
        "\n",
        "print(f\"Replaced array: {reshapedArray}\")\n",
        "\n"
      ],
      "metadata": {
        "colab": {
          "base_uri": "https://localhost:8080/"
        },
        "id": "4DarJVLSIMIn",
        "outputId": "f1b4d497-1ed9-4c46-df3f-5ad70676ae93"
      },
      "execution_count": 11,
      "outputs": [
        {
          "output_type": "stream",
          "name": "stdout",
          "text": [
            "The random vector: [16 11  2  7 13 13  9 13 18  3 15 14  2 10 15]\n",
            "The reshaped Array: [[16 11  2  7 13]\n",
            " [13  9 13 18  3]\n",
            " [15 14  2 10 15]]\n",
            "Array shape: (3, 5)\n",
            "Replaced array: [[ 0 11  2  7 13]\n",
            " [13  9 13  0  3]\n",
            " [ 0 14  2 10 15]]\n"
          ]
        }
      ]
    },
    {
      "cell_type": "code",
      "source": [
        "# Question 2\n",
        "\n",
        "import numpy as np\n",
        "\n",
        "# Create a 2D array\n",
        "#array2D = np.zeros((4,3), dtype = np.int32)\n",
        "array2D = np.random.randint(1,101 ,size = (4,3), dtype=np.int32)\n",
        "\n",
        "print(f\"The 2D Array: {array2D}\")\n",
        "print(f\"The shape of the array: {array2D.shape}\")\n",
        "print(f\"The Type of the array: {type(array2D)}\")\n",
        "print(f\"The Data type of the array: {array2D.dtype}\")"
      ],
      "metadata": {
        "colab": {
          "base_uri": "https://localhost:8080/"
        },
        "id": "h3fc0eo8KdNU",
        "outputId": "aa5520ee-473b-44d7-a0a7-6e9fe9a24832"
      },
      "execution_count": 17,
      "outputs": [
        {
          "output_type": "stream",
          "name": "stdout",
          "text": [
            "The 2D Array: [[56 29 41]\n",
            " [80 52 82]\n",
            " [96 74 80]\n",
            " [72 65 19]]\n",
            "The shape of the array: (4, 3)\n",
            "The Type of the array: <class 'numpy.ndarray'>\n",
            "The Data type of the array: int32\n"
          ]
        }
      ]
    },
    {
      "cell_type": "code",
      "source": [
        "# Question 3\n",
        "\n",
        "import numpy as np\n",
        "\n",
        "array = np.array([[0,1,2],\n",
        "                  [3,4,5]])\n",
        "\n",
        "sumOfDiagonal = np.trace(array)\n",
        "\n",
        "print(f\"The sum of diagonal elements of the array is: {sumOfDiagonal}\")"
      ],
      "metadata": {
        "colab": {
          "base_uri": "https://localhost:8080/"
        },
        "id": "H_8EP4-OOZlH",
        "outputId": "985bb6d4-f40f-4cfd-a643-ea6e61a860d8"
      },
      "execution_count": 18,
      "outputs": [
        {
          "output_type": "stream",
          "name": "stdout",
          "text": [
            "The sum of diagonal elements of the array is: 4\n"
          ]
        }
      ]
    },
    {
      "cell_type": "code",
      "source": [
        "from re import A\n",
        "# Question 4\n",
        "\n",
        "import numpy as np\n",
        "\n",
        "arrayEven = np.arange(10, 71, 2)\n",
        "arrayOdd = np.arange(11, 71, 2)\n",
        "\n",
        "arrayOddEven = np.concatenate((arrayEven, arrayOdd))\n",
        "\n",
        "print(f\"Array of odd and even: {arrayOddEven}\")\n",
        "\n",
        "# Mathematical operations\n",
        "\n",
        "a = np.array([1,2,3,4,5])\n",
        "b = np.array([6,7,8,9,10])\n",
        "\n",
        "print(f\"The Addition: {a + b}\")\n",
        "print(f\"The Substraction: {a - b}\")\n",
        "print(f\"The Multiplication: {a * b}\")\n",
        "\n",
        "# Sort\n",
        "\n",
        "array = np.array([[5.54, 3.38, 7.99],\n",
        "                  [3.54, 4.38, 6.99],\n",
        "                  [1.54, 2.39, 9.29]])\n",
        "\n",
        "row = np.sort(array, axis = 1)\n",
        "column = np.sort(array, axis = 0)\n",
        "\n",
        "print(\"Array sorted by row: \")\n",
        "print(row)\n",
        "print(\"Array sorted by column: \")\n",
        "print(column)"
      ],
      "metadata": {
        "colab": {
          "base_uri": "https://localhost:8080/"
        },
        "id": "NPSeI-R3PtOQ",
        "outputId": "3b9128a8-a15f-4035-d32f-ca3d5b3ca34b"
      },
      "execution_count": 14,
      "outputs": [
        {
          "output_type": "stream",
          "name": "stdout",
          "text": [
            "Array of odd and even: [10 12 14 16 18 20 22 24 26 28 30 32 34 36 38 40 42 44 46 48 50 52 54 56\n",
            " 58 60 62 64 66 68 70 11 13 15 17 19 21 23 25 27 29 31 33 35 37 39 41 43\n",
            " 45 47 49 51 53 55 57 59 61 63 65 67 69]\n",
            "The Addition: [ 7  9 11 13 15]\n",
            "The Substraction: [-5 -5 -5 -5 -5]\n",
            "The Multiplication: [ 6 14 24 36 50]\n",
            "Array sorted by row: \n",
            "[[3.38 5.54 7.99]\n",
            " [3.54 4.38 6.99]\n",
            " [1.54 2.39 9.29]]\n",
            "Array sorted by column: \n",
            "[[1.54 2.39 6.99]\n",
            " [3.54 3.38 7.99]\n",
            " [5.54 4.38 9.29]]\n"
          ]
        }
      ]
    },
    {
      "cell_type": "code",
      "source": [
        "# Question 5\n",
        "\n",
        "array = np.array([[4, 2, np.nan, 1],\n",
        "                  [11, 12, 14, 9],\n",
        "                  [5, np.nan, 1, np.nan]])\n",
        "\n",
        "print(\"Is the array missing data: \")\n",
        "print(np.isnan(array))"
      ],
      "metadata": {
        "colab": {
          "base_uri": "https://localhost:8080/"
        },
        "id": "44lXaWt3JG12",
        "outputId": "2f73db1f-7582-45db-f67a-422a3a12a8d8"
      },
      "execution_count": 16,
      "outputs": [
        {
          "output_type": "stream",
          "name": "stdout",
          "text": [
            "Is the array missing data: \n",
            "[[False False  True False]\n",
            " [False False False False]\n",
            " [False  True False  True]]\n"
          ]
        }
      ]
    }
  ]
}